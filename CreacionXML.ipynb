{
 "cells": [
  {
   "cell_type": "code",
   "execution_count": 26,
   "metadata": {},
   "outputs": [],
   "source": [
    "import xml.etree.ElementTree as ET"
   ]
  },
  {
   "cell_type": "code",
   "execution_count": 94,
   "metadata": {},
   "outputs": [],
   "source": [
    "a=ET.Element('mxfile')\n",
    "a.set('type','device')\n",
    "a.set('etag','e5UT8eMsTqIlWBz8k7qn')\n",
    "a.set('version','13.7.8')\n",
    "a.set('agent','5.0 (Windows NT 10.0; Win64; x64) AppleWebKit/537.36 (KHTML, like Gecko) Chrome/86.0.4240.111 Safari/537.36')\n",
    "a.set('modified','2020-10-27T13:18:35.356Z')\n",
    "a.set('host','Chrome')"
   ]
  },
  {
   "cell_type": "code",
   "execution_count": 95,
   "metadata": {},
   "outputs": [],
   "source": [
    "b = ET.SubElement(a, 'diagram')\n",
    "b.set('id','E2t0QyFFZp_JITEdpmB3')"
   ]
  },
  {
   "cell_type": "code",
   "execution_count": 96,
   "metadata": {},
   "outputs": [],
   "source": [
    "c = ET.SubElement(b, 'mxGraphModel')\n",
    "c.set('shadow','0')\n",
    "c.set('math','0')\n",
    "c.set('pageHeight','1169')\n",
    "c.set('pageWidth','827')\n",
    "c.set('pageScale','1')\n",
    "c.set('page','1')\n",
    "c.set('fold','1')\n",
    "c.set('arrows','1')\n",
    "c.set('connect','1')\n",
    "c.set('tooltips','1')\n",
    "c.set('guides','1')\n",
    "c.set('gridSize','10')\n",
    "c.set('grid','1')\n",
    "c.set('dy','18481')\n",
    "c.set('dx','21749')"
   ]
  },
  {
   "cell_type": "code",
   "execution_count": 97,
   "metadata": {},
   "outputs": [],
   "source": [
    "d = ET.SubElement(c, 'root')"
   ]
  },
  {
   "cell_type": "code",
   "execution_count": 98,
   "metadata": {},
   "outputs": [],
   "source": [
    "e = ET.SubElement(d, 'mxcell')\n",
    "e.set('id','0')\n",
    "f = ET.SubElement(d, 'mxcell')\n",
    "f.set('id','1')\n",
    "f.set('parent','0')"
   ]
  },
  {
   "cell_type": "code",
   "execution_count": 99,
   "metadata": {},
   "outputs": [
    {
     "name": "stdout",
     "output_type": "stream",
     "text": [
      "<mxfile agent=\"5.0 (Windows NT 10.0; Win64; x64) AppleWebKit/537.36 (KHTML, like Gecko) Chrome/86.0.4240.111 Safari/537.36\" etag=\"e5UT8eMsTqIlWBz8k7qn\" host=\"Chrome\" modified=\"2020-10-27T13:18:35.356Z\" type=\"device\" version=\"13.7.8\"><diagram id=\"E2t0QyFFZp_JITEdpmB3\"><mxGraphModel arrows=\"1\" connect=\"1\" dx=\"21749\" dy=\"18481\" fold=\"1\" grid=\"1\" gridSize=\"10\" guides=\"1\" math=\"0\" page=\"1\" pageHeight=\"1169\" pageScale=\"1\" pageWidth=\"827\" shadow=\"0\" tooltips=\"1\"><root><mxcell id=\"0\" /><mxcell id=\"1\" parent=\"0\" /></root></mxGraphModel></diagram></mxfile>\n"
     ]
    }
   ],
   "source": [
    "ET.dump(a)"
   ]
  },
  {
   "cell_type": "code",
   "execution_count": 100,
   "metadata": {},
   "outputs": [],
   "source": [
    "tree = ET.ElementTree(a)\n",
    "tree.write(\"output.xml\")"
   ]
  },
  {
   "cell_type": "code",
   "execution_count": 101,
   "metadata": {},
   "outputs": [],
   "source": [
    "comment = ET.Comment('user comment')\n",
    "a.append(comment) #this comment will be appended to parent element"
   ]
  },
  {
   "cell_type": "code",
   "execution_count": null,
   "metadata": {},
   "outputs": [],
   "source": []
  }
 ],
 "metadata": {
  "kernelspec": {
   "display_name": "Python 3",
   "language": "python",
   "name": "python3"
  },
  "language_info": {
   "codemirror_mode": {
    "name": "ipython",
    "version": 3
   },
   "file_extension": ".py",
   "mimetype": "text/x-python",
   "name": "python",
   "nbconvert_exporter": "python",
   "pygments_lexer": "ipython3",
   "version": "3.7.3"
  }
 },
 "nbformat": 4,
 "nbformat_minor": 4
}
